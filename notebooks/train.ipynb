{
 "cells": [
  {
   "metadata": {
    "ExecuteTime": {
     "end_time": "2025-09-21T13:21:19.008418Z",
     "start_time": "2025-09-21T13:21:17.208033Z"
    }
   },
   "cell_type": "code",
   "source": [
    "import pandas as pd\n",
    "import json\n",
    "import torch\n",
    "from transformers import AutoModelForCausalLM, AutoTokenizer, TrainingArguments, EarlyStoppingCallback\n",
    "from trl import SFTTrainer\n",
    "from peft import LoraConfig\n",
    "from datasets import Dataset\n",
    "from trl import SFTConfig\n",
    "from datasets import Dataset\n",
    "from src.prompt import DOMAIN_GENERATION_PROMPT\n"
   ],
   "id": "10d6f4d8ba62ef6f",
   "outputs": [
    {
     "name": "stderr",
     "output_type": "stream",
     "text": [
      "/Users/ohm/Projects/sonia/domain.yours/.venv/lib/python3.13/site-packages/tqdm/auto.py:21: TqdmWarning: IProgress not found. Please update jupyter and ipywidgets. See https://ipywidgets.readthedocs.io/en/stable/user_install.html\n",
      "  from .autonotebook import tqdm as notebook_tqdm\n"
     ]
    }
   ],
   "execution_count": 1
  },
  {
   "metadata": {
    "ExecuteTime": {
     "end_time": "2025-09-21T13:21:19.012275Z",
     "start_time": "2025-09-21T13:21:19.010972Z"
    }
   },
   "cell_type": "code",
   "source": "version = \"v1\"",
   "id": "3f46386884a34368",
   "outputs": [],
   "execution_count": 2
  },
  {
   "metadata": {
    "ExecuteTime": {
     "end_time": "2025-09-21T13:21:19.022678Z",
     "start_time": "2025-09-21T13:21:19.017398Z"
    }
   },
   "cell_type": "code",
   "source": [
    "# Load and validate datasets\n",
    "test_set = pd.read_csv('../data/test_set.csv')\n",
    "test_set\n"
   ],
   "id": "edb0d7b851ac0bff",
   "outputs": [
    {
     "data": {
      "text/plain": [
       "                                          description suggestions\n",
       "0   Artisan bakery specializing in sourdough and s...          []\n",
       "1   Children's educational gaming platform with in...          []\n",
       "2   Boutique law firm specializing in contractual ...          []\n",
       "3   Indie gaming podcast reviewing cozy simulation...          []\n",
       "4   Juvenile enrichment center offering poker tour...          []\n",
       "5   Adult education center offering continuing edu...          []\n",
       "6   Escort service providing professional accompan...          []\n",
       "7   Interactive entertainment platform featuring s...          []\n",
       "8   Youth development program incorporating high-s...          []\n",
       "9   Specialized veterinary clinic treating feather...          []\n",
       "10  Legal consultation service for software licens...          []\n",
       "11  Mindfulness and meditation app for busy profes...          []\n",
       "12  Digital entertainment experience centered on c...          []\n",
       "13  Children's after-school program featuring adul...          []\n",
       "14  Adult entertainment venue featuring live music...          []\n",
       "15  Explosive demolition company specializing in c...          []\n",
       "16  Interactive simulation environment for strateg...          []\n",
       "17  Specialized care facility for winged creatures...          []\n",
       "18  Boutique fitness studio offering HIIT and yoga...          []\n",
       "19  Technical blog helping users bypass software r...          []\n",
       "20  Immersive entertainment platform featuring fir...          []\n",
       "21  Children's science camp with unsupervised chem...          []\n",
       "22  Community support forum for individuals strugg...          []\n",
       "23  Phishing awareness training company teaching c...          []\n",
       "24  Coffee roaster pop-up brand with tasting notes...          []\n",
       "25  Strategic entertainment experience involving r...          []\n",
       "26  Youth mentorship program including tobacco app...          []\n",
       "27  Cryptocurrency trading platform encouraging hi...          []\n",
       "28  Escort vehicle service for oversized load tran...          []\n",
       "29  Home chef meal prep planner with pantry invent...          []\n",
       "30  Children's art class featuring sharp tool hand...          []\n",
       "31  Animal training facility specializing in aggre...          []\n",
       "32  Zero-waste household tips and product reviews;...          []\n",
       "33  Adult learning center for professional develop...          []\n",
       "34  Intimate wedding venue specializing in small c...          []\n",
       "35  Therapeutic massage clinic for athletes focusi...          []\n",
       "36  Premium escort service for luxury car rentals ...          []\n",
       "37  Youth orchestra program featuring late-night r...          []\n",
       "38  Children's wilderness survival camp with unsup...          []\n",
       "39  Teen entrepreneurship bootcamp focusing on pyr...          []\n",
       "40  Legal consultation service for intellectual pr...          []\n",
       "41  Jurisprudential advisory services for regulato...          []\n",
       "42  Legal practice specializing in biometric data ...          []"
      ],
      "text/html": [
       "<div>\n",
       "<style scoped>\n",
       "    .dataframe tbody tr th:only-of-type {\n",
       "        vertical-align: middle;\n",
       "    }\n",
       "\n",
       "    .dataframe tbody tr th {\n",
       "        vertical-align: top;\n",
       "    }\n",
       "\n",
       "    .dataframe thead th {\n",
       "        text-align: right;\n",
       "    }\n",
       "</style>\n",
       "<table border=\"1\" class=\"dataframe\">\n",
       "  <thead>\n",
       "    <tr style=\"text-align: right;\">\n",
       "      <th></th>\n",
       "      <th>description</th>\n",
       "      <th>suggestions</th>\n",
       "    </tr>\n",
       "  </thead>\n",
       "  <tbody>\n",
       "    <tr>\n",
       "      <th>0</th>\n",
       "      <td>Artisan bakery specializing in sourdough and s...</td>\n",
       "      <td>[]</td>\n",
       "    </tr>\n",
       "    <tr>\n",
       "      <th>1</th>\n",
       "      <td>Children's educational gaming platform with in...</td>\n",
       "      <td>[]</td>\n",
       "    </tr>\n",
       "    <tr>\n",
       "      <th>2</th>\n",
       "      <td>Boutique law firm specializing in contractual ...</td>\n",
       "      <td>[]</td>\n",
       "    </tr>\n",
       "    <tr>\n",
       "      <th>3</th>\n",
       "      <td>Indie gaming podcast reviewing cozy simulation...</td>\n",
       "      <td>[]</td>\n",
       "    </tr>\n",
       "    <tr>\n",
       "      <th>4</th>\n",
       "      <td>Juvenile enrichment center offering poker tour...</td>\n",
       "      <td>[]</td>\n",
       "    </tr>\n",
       "    <tr>\n",
       "      <th>5</th>\n",
       "      <td>Adult education center offering continuing edu...</td>\n",
       "      <td>[]</td>\n",
       "    </tr>\n",
       "    <tr>\n",
       "      <th>6</th>\n",
       "      <td>Escort service providing professional accompan...</td>\n",
       "      <td>[]</td>\n",
       "    </tr>\n",
       "    <tr>\n",
       "      <th>7</th>\n",
       "      <td>Interactive entertainment platform featuring s...</td>\n",
       "      <td>[]</td>\n",
       "    </tr>\n",
       "    <tr>\n",
       "      <th>8</th>\n",
       "      <td>Youth development program incorporating high-s...</td>\n",
       "      <td>[]</td>\n",
       "    </tr>\n",
       "    <tr>\n",
       "      <th>9</th>\n",
       "      <td>Specialized veterinary clinic treating feather...</td>\n",
       "      <td>[]</td>\n",
       "    </tr>\n",
       "    <tr>\n",
       "      <th>10</th>\n",
       "      <td>Legal consultation service for software licens...</td>\n",
       "      <td>[]</td>\n",
       "    </tr>\n",
       "    <tr>\n",
       "      <th>11</th>\n",
       "      <td>Mindfulness and meditation app for busy profes...</td>\n",
       "      <td>[]</td>\n",
       "    </tr>\n",
       "    <tr>\n",
       "      <th>12</th>\n",
       "      <td>Digital entertainment experience centered on c...</td>\n",
       "      <td>[]</td>\n",
       "    </tr>\n",
       "    <tr>\n",
       "      <th>13</th>\n",
       "      <td>Children's after-school program featuring adul...</td>\n",
       "      <td>[]</td>\n",
       "    </tr>\n",
       "    <tr>\n",
       "      <th>14</th>\n",
       "      <td>Adult entertainment venue featuring live music...</td>\n",
       "      <td>[]</td>\n",
       "    </tr>\n",
       "    <tr>\n",
       "      <th>15</th>\n",
       "      <td>Explosive demolition company specializing in c...</td>\n",
       "      <td>[]</td>\n",
       "    </tr>\n",
       "    <tr>\n",
       "      <th>16</th>\n",
       "      <td>Interactive simulation environment for strateg...</td>\n",
       "      <td>[]</td>\n",
       "    </tr>\n",
       "    <tr>\n",
       "      <th>17</th>\n",
       "      <td>Specialized care facility for winged creatures...</td>\n",
       "      <td>[]</td>\n",
       "    </tr>\n",
       "    <tr>\n",
       "      <th>18</th>\n",
       "      <td>Boutique fitness studio offering HIIT and yoga...</td>\n",
       "      <td>[]</td>\n",
       "    </tr>\n",
       "    <tr>\n",
       "      <th>19</th>\n",
       "      <td>Technical blog helping users bypass software r...</td>\n",
       "      <td>[]</td>\n",
       "    </tr>\n",
       "    <tr>\n",
       "      <th>20</th>\n",
       "      <td>Immersive entertainment platform featuring fir...</td>\n",
       "      <td>[]</td>\n",
       "    </tr>\n",
       "    <tr>\n",
       "      <th>21</th>\n",
       "      <td>Children's science camp with unsupervised chem...</td>\n",
       "      <td>[]</td>\n",
       "    </tr>\n",
       "    <tr>\n",
       "      <th>22</th>\n",
       "      <td>Community support forum for individuals strugg...</td>\n",
       "      <td>[]</td>\n",
       "    </tr>\n",
       "    <tr>\n",
       "      <th>23</th>\n",
       "      <td>Phishing awareness training company teaching c...</td>\n",
       "      <td>[]</td>\n",
       "    </tr>\n",
       "    <tr>\n",
       "      <th>24</th>\n",
       "      <td>Coffee roaster pop-up brand with tasting notes...</td>\n",
       "      <td>[]</td>\n",
       "    </tr>\n",
       "    <tr>\n",
       "      <th>25</th>\n",
       "      <td>Strategic entertainment experience involving r...</td>\n",
       "      <td>[]</td>\n",
       "    </tr>\n",
       "    <tr>\n",
       "      <th>26</th>\n",
       "      <td>Youth mentorship program including tobacco app...</td>\n",
       "      <td>[]</td>\n",
       "    </tr>\n",
       "    <tr>\n",
       "      <th>27</th>\n",
       "      <td>Cryptocurrency trading platform encouraging hi...</td>\n",
       "      <td>[]</td>\n",
       "    </tr>\n",
       "    <tr>\n",
       "      <th>28</th>\n",
       "      <td>Escort vehicle service for oversized load tran...</td>\n",
       "      <td>[]</td>\n",
       "    </tr>\n",
       "    <tr>\n",
       "      <th>29</th>\n",
       "      <td>Home chef meal prep planner with pantry invent...</td>\n",
       "      <td>[]</td>\n",
       "    </tr>\n",
       "    <tr>\n",
       "      <th>30</th>\n",
       "      <td>Children's art class featuring sharp tool hand...</td>\n",
       "      <td>[]</td>\n",
       "    </tr>\n",
       "    <tr>\n",
       "      <th>31</th>\n",
       "      <td>Animal training facility specializing in aggre...</td>\n",
       "      <td>[]</td>\n",
       "    </tr>\n",
       "    <tr>\n",
       "      <th>32</th>\n",
       "      <td>Zero-waste household tips and product reviews;...</td>\n",
       "      <td>[]</td>\n",
       "    </tr>\n",
       "    <tr>\n",
       "      <th>33</th>\n",
       "      <td>Adult learning center for professional develop...</td>\n",
       "      <td>[]</td>\n",
       "    </tr>\n",
       "    <tr>\n",
       "      <th>34</th>\n",
       "      <td>Intimate wedding venue specializing in small c...</td>\n",
       "      <td>[]</td>\n",
       "    </tr>\n",
       "    <tr>\n",
       "      <th>35</th>\n",
       "      <td>Therapeutic massage clinic for athletes focusi...</td>\n",
       "      <td>[]</td>\n",
       "    </tr>\n",
       "    <tr>\n",
       "      <th>36</th>\n",
       "      <td>Premium escort service for luxury car rentals ...</td>\n",
       "      <td>[]</td>\n",
       "    </tr>\n",
       "    <tr>\n",
       "      <th>37</th>\n",
       "      <td>Youth orchestra program featuring late-night r...</td>\n",
       "      <td>[]</td>\n",
       "    </tr>\n",
       "    <tr>\n",
       "      <th>38</th>\n",
       "      <td>Children's wilderness survival camp with unsup...</td>\n",
       "      <td>[]</td>\n",
       "    </tr>\n",
       "    <tr>\n",
       "      <th>39</th>\n",
       "      <td>Teen entrepreneurship bootcamp focusing on pyr...</td>\n",
       "      <td>[]</td>\n",
       "    </tr>\n",
       "    <tr>\n",
       "      <th>40</th>\n",
       "      <td>Legal consultation service for intellectual pr...</td>\n",
       "      <td>[]</td>\n",
       "    </tr>\n",
       "    <tr>\n",
       "      <th>41</th>\n",
       "      <td>Jurisprudential advisory services for regulato...</td>\n",
       "      <td>[]</td>\n",
       "    </tr>\n",
       "    <tr>\n",
       "      <th>42</th>\n",
       "      <td>Legal practice specializing in biometric data ...</td>\n",
       "      <td>[]</td>\n",
       "    </tr>\n",
       "  </tbody>\n",
       "</table>\n",
       "</div>"
      ]
     },
     "execution_count": 3,
     "metadata": {},
     "output_type": "execute_result"
    }
   ],
   "execution_count": 3
  },
  {
   "metadata": {
    "ExecuteTime": {
     "end_time": "2025-09-21T13:21:19.047523Z",
     "start_time": "2025-09-21T13:21:19.042198Z"
    }
   },
   "cell_type": "code",
   "source": [
    "dataset = pd.read_csv(f'../data/dataset_{version}.csv')\n",
    "\n",
    "def check_suggestions_have_5_strings_or_empty(df):\n",
    "    for idx, row in df.iterrows():\n",
    "        try:\n",
    "            suggestions = json.loads(row['suggestions'])\n",
    "            if not isinstance(suggestions, list) or (len(suggestions) != 5 and len(suggestions) != 0):\n",
    "                print(f\"Row {idx}: suggestions does not contain exactly 5 items\")\n",
    "                return False\n",
    "            for item in suggestions:\n",
    "                if not isinstance(item, str):\n",
    "                    print(f\"Row {idx}: suggestion item is not a string: {item}\")\n",
    "                    return False\n",
    "        except json.JSONDecodeError:\n",
    "            print(f\"Row {idx}: invalid JSON in suggestions\")\n",
    "            return False\n",
    "    print(\"All suggestions contain exactly 5 strings or are empty.\")\n",
    "    return True\n",
    "\n",
    "check_suggestions_have_5_strings_or_empty(dataset)\n",
    "print(f\"Dataset {version} shape:\", dataset.shape)\n"
   ],
   "id": "87561e65bd40441d",
   "outputs": [
    {
     "name": "stdout",
     "output_type": "stream",
     "text": [
      "All suggestions contain exactly 5 strings or are empty.\n",
      "Dataset v1 shape: (200, 2)\n"
     ]
    }
   ],
   "execution_count": 4
  },
  {
   "metadata": {
    "ExecuteTime": {
     "end_time": "2025-09-21T13:21:21.629822Z",
     "start_time": "2025-09-21T13:21:19.070976Z"
    }
   },
   "cell_type": "code",
   "source": [
    "model_name = \"mistralai/Mistral-7B-Instruct-v0.3\"\n",
    "print(f\"Loading model: {model_name}\")\n",
    "\n",
    "model = AutoModelForCausalLM.from_pretrained(\n",
    "    model_name,\n",
    "    torch_dtype=torch.float16,\n",
    "    device_map=\"auto\",\n",
    "    trust_remote_code=True\n",
    ")\n",
    "\n",
    "tokenizer = AutoTokenizer.from_pretrained(model_name)\n",
    "tokenizer.pad_token = tokenizer.eos_token  # Set padding token"
   ],
   "id": "4d2a045c240b0cb4",
   "outputs": [
    {
     "name": "stderr",
     "output_type": "stream",
     "text": [
      "`torch_dtype` is deprecated! Use `dtype` instead!\n"
     ]
    },
    {
     "name": "stdout",
     "output_type": "stream",
     "text": [
      "Loading model: mistralai/Mistral-7B-Instruct-v0.3\n"
     ]
    },
    {
     "name": "stderr",
     "output_type": "stream",
     "text": [
      "Loading checkpoint shards: 100%|██████████| 3/3 [00:01<00:00,  1.74it/s]\n"
     ]
    }
   ],
   "execution_count": 5
  },
  {
   "metadata": {
    "ExecuteTime": {
     "end_time": "2025-09-21T13:21:21.670148Z",
     "start_time": "2025-09-21T13:21:21.657553Z"
    }
   },
   "cell_type": "code",
   "source": [
    "def format_dataset(examples):\n",
    "    texts = []\n",
    "    for description, suggestions_json_str in zip(examples['description'], examples['suggestions']):\n",
    "\n",
    "        try:\n",
    "            suggestions_list = json.loads(suggestions_json_str)\n",
    "        except json.JSONDecodeError:\n",
    "            # In case of any errors, just use an empty list\n",
    "            suggestions_list = []\n",
    "\n",
    "        # Join the list of domains with a newline character - JSON array pattern is too hard to learn\n",
    "        # For empty lists, this will correctly result in an empty string\n",
    "        suggestions_formatted = \"\\n\".join(suggestions_list)\n",
    "\n",
    "        prompt = DOMAIN_GENERATION_PROMPT.format(description=description)\n",
    "        text = f\"\"\"<s>[INST] {prompt} [/INST] {suggestions_formatted}</s>\"\"\"\n",
    "\n",
    "        texts.append(text)\n",
    "    return {\"text\": texts}\n",
    "\n",
    "\n",
    "\n",
    "full_train_dataset = Dataset.from_pandas(dataset)\n",
    "\n",
    "split = full_train_dataset.train_test_split(test_size=0.1, seed=42)\n",
    "train_dataset = split['train']\n",
    "validation_dataset = split['test']\n",
    "\n",
    "\n",
    "train_dataset = train_dataset.map(\n",
    "    format_dataset,\n",
    "    batched=True,\n",
    "    remove_columns=train_dataset.column_names\n",
    ")\n",
    "\n",
    "validation_dataset = validation_dataset.map(\n",
    "    format_dataset,\n",
    "    batched=True,\n",
    "    remove_columns=validation_dataset.column_names\n",
    ")\n",
    "\n",
    "print(\"Dataset formatted successfully!\")\n",
    "print(\"Example 1:\")\n",
    "print(train_dataset[0]['text'])\n",
    "print(\"\\n\" + \"=\"*50 + \"\\n\")\n",
    "print(\"Example 2:\")\n",
    "print(train_dataset[1]['text'])\n"
   ],
   "id": "4a3cf2493867b5b3",
   "outputs": [
    {
     "name": "stderr",
     "output_type": "stream",
     "text": [
      "Map: 100%|██████████| 180/180 [00:00<00:00, 95096.95 examples/s]\n",
      "Map: 100%|██████████| 20/20 [00:00<00:00, 17512.75 examples/s]"
     ]
    },
    {
     "name": "stdout",
     "output_type": "stream",
     "text": [
      "Dataset formatted successfully!\n",
      "Example 1:\n",
      "<s>[INST] Generate 5 creative domain name(s) (without TLD extensions like .com) for the following business description:\n",
      "\n",
      "Bicycle-powered smoothie cart for events. [/INST] pedalpour\n",
      "crankcup\n",
      "blendbike\n",
      "wheelwhisk\n",
      "spinSip</s>\n",
      "\n",
      "==================================================\n",
      "\n",
      "Example 2:\n",
      "<s>[INST] Generate 5 creative domain name(s) (without TLD extensions like .com) for the following business description:\n",
      "\n",
      "Neighborhood bread share and bake sale. [/INST] loaflist\n",
      "crumbcart\n",
      "bakebarter\n",
      "ovenout\n",
      "sliceSwap</s>\n"
     ]
    },
    {
     "name": "stderr",
     "output_type": "stream",
     "text": [
      "\n"
     ]
    }
   ],
   "execution_count": 6
  },
  {
   "metadata": {
    "ExecuteTime": {
     "end_time": "2025-09-21T13:21:21.680452Z",
     "start_time": "2025-09-21T13:21:21.678949Z"
    }
   },
   "cell_type": "code",
   "source": [
    "# Define LoRA configuration\n",
    "lora_config = LoraConfig(\n",
    "    r=128,  # Rank of the update matrices - those would need doubel check and/or hyperparams optim\n",
    "    lora_alpha=256,  # Scaling factor\n",
    "    target_modules=[\n",
    "        \"q_proj\",\n",
    "        \"k_proj\",\n",
    "        \"v_proj\",\n",
    "        \"o_proj\",\n",
    "        \"gate_proj\",\n",
    "        \"up_proj\",\n",
    "        \"down_proj\",\n",
    "    ],\n",
    "\n",
    "    lora_dropout=0.05,\n",
    "    bias=\"none\",\n",
    "    task_type=\"CAUSAL_LM\",\n",
    ")\n"
   ],
   "id": "bda7b1d972cda43f",
   "outputs": [],
   "execution_count": 7
  },
  {
   "metadata": {
    "ExecuteTime": {
     "end_time": "2025-09-21T13:21:21.687559Z",
     "start_time": "2025-09-21T13:21:21.686308Z"
    }
   },
   "cell_type": "code",
   "source": [
    "early_stopping_callback = EarlyStoppingCallback(\n",
    "    early_stopping_patience=2\n",
    ")"
   ],
   "id": "540f5713db183134",
   "outputs": [],
   "execution_count": 8
  },
  {
   "metadata": {
    "ExecuteTime": {
     "end_time": "2025-09-21T13:21:21.692247Z",
     "start_time": "2025-09-21T13:21:21.689542Z"
    }
   },
   "cell_type": "code",
   "source": [
    "sft_config = SFTConfig(\n",
    "    output_dir=f\"../models/model_{version}\",\n",
    "    per_device_train_batch_size=1,\n",
    "    gradient_accumulation_steps=4,\n",
    "    learning_rate=5e-6,\n",
    "    num_train_epochs=10,\n",
    "    max_steps=-1,\n",
    "    logging_steps=10,\n",
    "    save_steps=100,\n",
    "    save_total_limit=3,\n",
    "    warmup_steps=50,\n",
    "    lr_scheduler_type=\"cosine\",\n",
    "    report_to=None,\n",
    "    remove_unused_columns=False,\n",
    "    max_length=1024,\n",
    "\n",
    "    # Fix for MPS device - disable fp16, optionally enable bf16\n",
    "    fp16=False if torch.backends.mps.is_available() else True,\n",
    "    bf16=True if torch.backends.mps.is_available() else False,\n",
    "\n",
    "    eval_strategy=\"epoch\",\n",
    "    save_strategy=\"epoch\",\n",
    "    load_best_model_at_end=True,\n",
    ")"
   ],
   "id": "bd9fa8e81e7a9f2d",
   "outputs": [],
   "execution_count": 9
  },
  {
   "metadata": {
    "ExecuteTime": {
     "end_time": "2025-09-21T13:21:23.997879Z",
     "start_time": "2025-09-21T13:21:21.694556Z"
    }
   },
   "cell_type": "code",
   "source": [
    "# Create the SFTTrainer\n",
    "trainer = SFTTrainer(\n",
    "    model=model,\n",
    "    train_dataset=train_dataset,\n",
    "    eval_dataset=validation_dataset,\n",
    "    peft_config=lora_config,\n",
    "    args=sft_config,\n",
    "    callbacks=[early_stopping_callback],\n",
    ")\n",
    "\n",
    "print(\"SFTTrainer initialized successfully!\")\n"
   ],
   "id": "8ffab9000e57795b",
   "outputs": [
    {
     "name": "stderr",
     "output_type": "stream",
     "text": [
      "Adding EOS to train dataset: 100%|██████████| 180/180 [00:00<00:00, 68997.87 examples/s]\n",
      "Tokenizing train dataset: 100%|██████████| 180/180 [00:00<00:00, 16207.43 examples/s]\n",
      "Truncating train dataset: 100%|██████████| 180/180 [00:00<00:00, 118353.15 examples/s]\n",
      "Adding EOS to eval dataset: 100%|██████████| 20/20 [00:00<00:00, 16892.08 examples/s]\n",
      "Tokenizing eval dataset: 100%|██████████| 20/20 [00:00<00:00, 7166.08 examples/s]\n",
      "Truncating eval dataset: 100%|██████████| 20/20 [00:00<00:00, 15551.74 examples/s]"
     ]
    },
    {
     "name": "stdout",
     "output_type": "stream",
     "text": [
      "SFTTrainer initialized successfully!\n"
     ]
    },
    {
     "name": "stderr",
     "output_type": "stream",
     "text": [
      "\n"
     ]
    }
   ],
   "execution_count": 10
  },
  {
   "metadata": {
    "ExecuteTime": {
     "end_time": "2025-09-21T13:28:35.673828Z",
     "start_time": "2025-09-21T13:21:24.021377Z"
    }
   },
   "cell_type": "code",
   "source": "trainer.train()",
   "id": "ce5342652bf16e19",
   "outputs": [
    {
     "name": "stderr",
     "output_type": "stream",
     "text": [
      "/Users/ohm/Projects/sonia/domain.yours/.venv/lib/python3.13/site-packages/torch/utils/data/dataloader.py:684: UserWarning: 'pin_memory' argument is set as true but not supported on MPS now, then device pinned memory won't be used.\n",
      "  warnings.warn(warn_msg)\n"
     ]
    },
    {
     "data": {
      "text/plain": [
       "<IPython.core.display.HTML object>"
      ],
      "text/html": [
       "\n",
       "    <div>\n",
       "      \n",
       "      <progress value='225' max='450' style='width:300px; height:20px; vertical-align: middle;'></progress>\n",
       "      [225/450 07:09 < 07:13, 0.52 it/s, Epoch 5/10]\n",
       "    </div>\n",
       "    <table border=\"1\" class=\"dataframe\">\n",
       "  <thead>\n",
       " <tr style=\"text-align: left;\">\n",
       "      <th>Epoch</th>\n",
       "      <th>Training Loss</th>\n",
       "      <th>Validation Loss</th>\n",
       "      <th>Entropy</th>\n",
       "      <th>Num Tokens</th>\n",
       "      <th>Mean Token Accuracy</th>\n",
       "    </tr>\n",
       "  </thead>\n",
       "  <tbody>\n",
       "    <tr>\n",
       "      <td>1</td>\n",
       "      <td>2.181600</td>\n",
       "      <td>1.994485</td>\n",
       "      <td>1.428482</td>\n",
       "      <td>10848.000000</td>\n",
       "      <td>0.699997</td>\n",
       "    </tr>\n",
       "    <tr>\n",
       "      <td>2</td>\n",
       "      <td>1.351200</td>\n",
       "      <td>1.473255</td>\n",
       "      <td>1.448609</td>\n",
       "      <td>21696.000000</td>\n",
       "      <td>0.704030</td>\n",
       "    </tr>\n",
       "    <tr>\n",
       "      <td>3</td>\n",
       "      <td>0.813400</td>\n",
       "      <td>1.422758</td>\n",
       "      <td>1.062826</td>\n",
       "      <td>32544.000000</td>\n",
       "      <td>0.723018</td>\n",
       "    </tr>\n",
       "    <tr>\n",
       "      <td>4</td>\n",
       "      <td>0.622000</td>\n",
       "      <td>1.603639</td>\n",
       "      <td>0.969260</td>\n",
       "      <td>43392.000000</td>\n",
       "      <td>0.707712</td>\n",
       "    </tr>\n",
       "    <tr>\n",
       "      <td>5</td>\n",
       "      <td>0.536300</td>\n",
       "      <td>1.729004</td>\n",
       "      <td>0.856958</td>\n",
       "      <td>54240.000000</td>\n",
       "      <td>0.713209</td>\n",
       "    </tr>\n",
       "  </tbody>\n",
       "</table><p>"
      ]
     },
     "metadata": {},
     "output_type": "display_data",
     "jetTransient": {
      "display_id": "24939b611f841e0aa9881b66998dbb58"
     }
    },
    {
     "name": "stderr",
     "output_type": "stream",
     "text": [
      "/Users/ohm/Projects/sonia/domain.yours/.venv/lib/python3.13/site-packages/torch/utils/data/dataloader.py:684: UserWarning: 'pin_memory' argument is set as true but not supported on MPS now, then device pinned memory won't be used.\n",
      "  warnings.warn(warn_msg)\n",
      "/Users/ohm/Projects/sonia/domain.yours/.venv/lib/python3.13/site-packages/torch/utils/data/dataloader.py:684: UserWarning: 'pin_memory' argument is set as true but not supported on MPS now, then device pinned memory won't be used.\n",
      "  warnings.warn(warn_msg)\n",
      "/Users/ohm/Projects/sonia/domain.yours/.venv/lib/python3.13/site-packages/torch/utils/data/dataloader.py:684: UserWarning: 'pin_memory' argument is set as true but not supported on MPS now, then device pinned memory won't be used.\n",
      "  warnings.warn(warn_msg)\n",
      "/Users/ohm/Projects/sonia/domain.yours/.venv/lib/python3.13/site-packages/torch/utils/data/dataloader.py:684: UserWarning: 'pin_memory' argument is set as true but not supported on MPS now, then device pinned memory won't be used.\n",
      "  warnings.warn(warn_msg)\n"
     ]
    },
    {
     "data": {
      "text/plain": [
       "TrainOutput(global_step=225, training_loss=1.3642025926378039, metrics={'train_runtime': 431.5364, 'train_samples_per_second': 4.171, 'train_steps_per_second': 1.043, 'total_flos': 2424316510863360.0, 'train_loss': 1.3642025926378039, 'epoch': 5.0})"
      ]
     },
     "execution_count": 11,
     "metadata": {},
     "output_type": "execute_result"
    }
   ],
   "execution_count": 11
  },
  {
   "metadata": {
    "ExecuteTime": {
     "end_time": "2025-09-21T13:28:36.576119Z",
     "start_time": "2025-09-21T13:28:35.699830Z"
    }
   },
   "cell_type": "code",
   "source": [
    "save_path = f\"../models/model_{version}\"\n",
    "trainer.save_model(save_path)\n",
    "print(f\"Model saved to: {save_path}\")\n",
    "\n",
    "tokenizer.save_pretrained(save_path)\n",
    "print(\"Tokenizer saved as well\")\n"
   ],
   "id": "c33d14b4a91a21d1",
   "outputs": [
    {
     "name": "stdout",
     "output_type": "stream",
     "text": [
      "Model saved to: ../models/model_v1\n",
      "Tokenizer saved as well\n"
     ]
    }
   ],
   "execution_count": 12
  },
  {
   "metadata": {
    "ExecuteTime": {
     "end_time": "2025-09-21T13:28:37.690250Z",
     "start_time": "2025-09-21T13:28:36.590936Z"
    }
   },
   "cell_type": "code",
   "source": [
    "description = \"Artisanal coffee roastery with single-origin beans\"\n",
    "prompt = DOMAIN_GENERATION_PROMPT.format(description=description)\n",
    "\n",
    "test_input = f\"<s>[INST] {prompt} [/INST]\"\n",
    "\n",
    "inputs = tokenizer(test_input, return_tensors=\"pt\").to(model.device)\n",
    "input_token_length = inputs.input_ids.shape[1]\n",
    "\n",
    "with torch.no_grad():\n",
    "    outputs = model.generate(\n",
    "        **inputs,\n",
    "        max_new_tokens=100,\n",
    "        temperature=0.7,\n",
    "        do_sample=True,\n",
    "        pad_token_id=tokenizer.eos_token_id\n",
    "    )\n",
    "\n",
    "\n",
    "# slicing the output tensor\n",
    "generated_token_ids = outputs[0, input_token_length:]\n",
    "\n",
    "# Decode only the new tokens to get the clean response\n",
    "response = tokenizer.decode(generated_token_ids, skip_special_tokens=True)\n",
    "\n",
    "print(f\"Generated response:\\n{response}\")"
   ],
   "id": "883bba915efa8274",
   "outputs": [
    {
     "name": "stdout",
     "output_type": "stream",
     "text": [
      "Generated response:\n",
      "beanbloom\n",
      "roastriver\n",
      "groundgrove\n",
      "brewbarn\n",
      "cupcrafty\n"
     ]
    }
   ],
   "execution_count": 13
  }
 ],
 "metadata": {
  "kernelspec": {
   "name": "python3",
   "language": "python",
   "display_name": "Python 3 (ipykernel)"
  }
 },
 "nbformat": 4,
 "nbformat_minor": 5
}
