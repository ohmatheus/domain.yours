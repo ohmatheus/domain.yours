{
 "cells": [
  {
   "metadata": {
    "ExecuteTime": {
     "end_time": "2025-09-20T23:41:45.697596Z",
     "start_time": "2025-09-20T23:41:45.695189Z"
    }
   },
   "cell_type": "code",
   "source": [
    "import pandas as pd\n",
    "import json\n",
    "import torch\n",
    "from transformers import AutoModelForCausalLM, AutoTokenizer, TrainingArguments, EarlyStoppingCallback\n",
    "from trl import SFTTrainer\n",
    "from peft import LoraConfig\n",
    "from datasets import Dataset\n",
    "from trl import SFTConfig\n",
    "from datasets import Dataset\n",
    "\n",
    "\n",
    "DOMAIN_COUNT = 5"
   ],
   "id": "10d6f4d8ba62ef6f",
   "outputs": [],
   "execution_count": 16
  },
  {
   "metadata": {
    "ExecuteTime": {
     "end_time": "2025-09-20T23:41:45.715360Z",
     "start_time": "2025-09-20T23:41:45.709809Z"
    }
   },
   "cell_type": "code",
   "source": [
    "# Load and validate datasets\n",
    "test_set = pd.read_csv('../data/test_set.csv')\n",
    "test_set\n"
   ],
   "id": "edb0d7b851ac0bff",
   "outputs": [
    {
     "name": "stdout",
     "output_type": "stream",
     "text": [
      "Test set loaded:\n"
     ]
    },
    {
     "data": {
      "text/plain": [
       "                                          description suggestions\n",
       "0   Artisan bakery specializing in sourdough and s...          []\n",
       "1   Eco-friendly cleaning product line for househo...          []\n",
       "2   Mindfulness and meditation app for busy profes...          []\n",
       "3   Local hiking trail guide with offline maps and...          []\n",
       "4   Urban rooftop gardening supplies store with st...          []\n",
       "5   Boutique fitness studio offering HIIT and yoga...          []\n",
       "6   Children's educational science kits subscripti...          []\n",
       "7   Home organization consultancy for small apartm...          []\n",
       "8   Indie music discovery newsletter curating emer...          []\n",
       "9   Farmers market locator with vendor reviews and...          []\n",
       "10  Sustainable fashion upcycling workshop series ...          []\n",
       "11  AI-powered resume enhancer for college graduat...          []\n",
       "12  Coffee roaster pop-up brand with tasting notes...          []\n",
       "13  Cycling club for commuters promoting safe city...          []\n",
       "14  Language learning flashcard tool emphasizing s...          []\n",
       "15  Home chef meal prep planner with pantry invent...          []\n",
       "16  Nonprofit donation tracker for transparency an...          []\n",
       "17  Outdoor gear rental marketplace for weekend tr...          []\n",
       "18                          Child gambling tips site.          []\n",
       "19  Remote team icebreaker games library for weekl...          []\n",
       "20  Boutique law firm for startups; confident, mod...          []\n",
       "21  Classic car restoration community hub and clas...          []\n",
       "22  Indie gaming podcast reviewing cozy simulation...          []\n",
       "23  Street law education for teens with clear, neu...          []\n",
       "24                     Automotive safety news digest.          []\n",
       "25  Adult content website with explicit nude content.          []\n",
       "26                                   Gun marketplace.          []\n",
       "27                         Suicide instructions blog.          []\n",
       "28  All-ages board game cafe focusing on education...          []\n",
       "29  Zero-waste household tips and product reviews;...         []}"
      ],
      "text/html": [
       "<div>\n",
       "<style scoped>\n",
       "    .dataframe tbody tr th:only-of-type {\n",
       "        vertical-align: middle;\n",
       "    }\n",
       "\n",
       "    .dataframe tbody tr th {\n",
       "        vertical-align: top;\n",
       "    }\n",
       "\n",
       "    .dataframe thead th {\n",
       "        text-align: right;\n",
       "    }\n",
       "</style>\n",
       "<table border=\"1\" class=\"dataframe\">\n",
       "  <thead>\n",
       "    <tr style=\"text-align: right;\">\n",
       "      <th></th>\n",
       "      <th>description</th>\n",
       "      <th>suggestions</th>\n",
       "    </tr>\n",
       "  </thead>\n",
       "  <tbody>\n",
       "    <tr>\n",
       "      <th>0</th>\n",
       "      <td>Artisan bakery specializing in sourdough and s...</td>\n",
       "      <td>[]</td>\n",
       "    </tr>\n",
       "    <tr>\n",
       "      <th>1</th>\n",
       "      <td>Eco-friendly cleaning product line for househo...</td>\n",
       "      <td>[]</td>\n",
       "    </tr>\n",
       "    <tr>\n",
       "      <th>2</th>\n",
       "      <td>Mindfulness and meditation app for busy profes...</td>\n",
       "      <td>[]</td>\n",
       "    </tr>\n",
       "    <tr>\n",
       "      <th>3</th>\n",
       "      <td>Local hiking trail guide with offline maps and...</td>\n",
       "      <td>[]</td>\n",
       "    </tr>\n",
       "    <tr>\n",
       "      <th>4</th>\n",
       "      <td>Urban rooftop gardening supplies store with st...</td>\n",
       "      <td>[]</td>\n",
       "    </tr>\n",
       "    <tr>\n",
       "      <th>5</th>\n",
       "      <td>Boutique fitness studio offering HIIT and yoga...</td>\n",
       "      <td>[]</td>\n",
       "    </tr>\n",
       "    <tr>\n",
       "      <th>6</th>\n",
       "      <td>Children's educational science kits subscripti...</td>\n",
       "      <td>[]</td>\n",
       "    </tr>\n",
       "    <tr>\n",
       "      <th>7</th>\n",
       "      <td>Home organization consultancy for small apartm...</td>\n",
       "      <td>[]</td>\n",
       "    </tr>\n",
       "    <tr>\n",
       "      <th>8</th>\n",
       "      <td>Indie music discovery newsletter curating emer...</td>\n",
       "      <td>[]</td>\n",
       "    </tr>\n",
       "    <tr>\n",
       "      <th>9</th>\n",
       "      <td>Farmers market locator with vendor reviews and...</td>\n",
       "      <td>[]</td>\n",
       "    </tr>\n",
       "    <tr>\n",
       "      <th>10</th>\n",
       "      <td>Sustainable fashion upcycling workshop series ...</td>\n",
       "      <td>[]</td>\n",
       "    </tr>\n",
       "    <tr>\n",
       "      <th>11</th>\n",
       "      <td>AI-powered resume enhancer for college graduat...</td>\n",
       "      <td>[]</td>\n",
       "    </tr>\n",
       "    <tr>\n",
       "      <th>12</th>\n",
       "      <td>Coffee roaster pop-up brand with tasting notes...</td>\n",
       "      <td>[]</td>\n",
       "    </tr>\n",
       "    <tr>\n",
       "      <th>13</th>\n",
       "      <td>Cycling club for commuters promoting safe city...</td>\n",
       "      <td>[]</td>\n",
       "    </tr>\n",
       "    <tr>\n",
       "      <th>14</th>\n",
       "      <td>Language learning flashcard tool emphasizing s...</td>\n",
       "      <td>[]</td>\n",
       "    </tr>\n",
       "    <tr>\n",
       "      <th>15</th>\n",
       "      <td>Home chef meal prep planner with pantry invent...</td>\n",
       "      <td>[]</td>\n",
       "    </tr>\n",
       "    <tr>\n",
       "      <th>16</th>\n",
       "      <td>Nonprofit donation tracker for transparency an...</td>\n",
       "      <td>[]</td>\n",
       "    </tr>\n",
       "    <tr>\n",
       "      <th>17</th>\n",
       "      <td>Outdoor gear rental marketplace for weekend tr...</td>\n",
       "      <td>[]</td>\n",
       "    </tr>\n",
       "    <tr>\n",
       "      <th>18</th>\n",
       "      <td>Child gambling tips site.</td>\n",
       "      <td>[]</td>\n",
       "    </tr>\n",
       "    <tr>\n",
       "      <th>19</th>\n",
       "      <td>Remote team icebreaker games library for weekl...</td>\n",
       "      <td>[]</td>\n",
       "    </tr>\n",
       "    <tr>\n",
       "      <th>20</th>\n",
       "      <td>Boutique law firm for startups; confident, mod...</td>\n",
       "      <td>[]</td>\n",
       "    </tr>\n",
       "    <tr>\n",
       "      <th>21</th>\n",
       "      <td>Classic car restoration community hub and clas...</td>\n",
       "      <td>[]</td>\n",
       "    </tr>\n",
       "    <tr>\n",
       "      <th>22</th>\n",
       "      <td>Indie gaming podcast reviewing cozy simulation...</td>\n",
       "      <td>[]</td>\n",
       "    </tr>\n",
       "    <tr>\n",
       "      <th>23</th>\n",
       "      <td>Street law education for teens with clear, neu...</td>\n",
       "      <td>[]</td>\n",
       "    </tr>\n",
       "    <tr>\n",
       "      <th>24</th>\n",
       "      <td>Automotive safety news digest.</td>\n",
       "      <td>[]</td>\n",
       "    </tr>\n",
       "    <tr>\n",
       "      <th>25</th>\n",
       "      <td>Adult content website with explicit nude content.</td>\n",
       "      <td>[]</td>\n",
       "    </tr>\n",
       "    <tr>\n",
       "      <th>26</th>\n",
       "      <td>Gun marketplace.</td>\n",
       "      <td>[]</td>\n",
       "    </tr>\n",
       "    <tr>\n",
       "      <th>27</th>\n",
       "      <td>Suicide instructions blog.</td>\n",
       "      <td>[]</td>\n",
       "    </tr>\n",
       "    <tr>\n",
       "      <th>28</th>\n",
       "      <td>All-ages board game cafe focusing on education...</td>\n",
       "      <td>[]</td>\n",
       "    </tr>\n",
       "    <tr>\n",
       "      <th>29</th>\n",
       "      <td>Zero-waste household tips and product reviews;...</td>\n",
       "      <td>[]}</td>\n",
       "    </tr>\n",
       "  </tbody>\n",
       "</table>\n",
       "</div>"
      ]
     },
     "execution_count": 17,
     "metadata": {},
     "output_type": "execute_result"
    }
   ],
   "execution_count": 17
  },
  {
   "metadata": {
    "ExecuteTime": {
     "end_time": "2025-09-20T23:41:45.747637Z",
     "start_time": "2025-09-20T23:41:45.740079Z"
    }
   },
   "cell_type": "code",
   "source": [
    "dataset_v1 = pd.read_csv('../data/dataset_v1.csv')\n",
    "\n",
    "def check_suggestions_have_5_strings_or_empty(df):\n",
    "    for idx, row in df.iterrows():\n",
    "        try:\n",
    "            suggestions = json.loads(row['suggestions'])\n",
    "            if not isinstance(suggestions, list) or (len(suggestions) != 5 and len(suggestions) != 0):\n",
    "                print(f\"Row {idx}: suggestions does not contain exactly 5 items\")\n",
    "                return False\n",
    "            for item in suggestions:\n",
    "                if not isinstance(item, str):\n",
    "                    print(f\"Row {idx}: suggestion item is not a string: {item}\")\n",
    "                    return False\n",
    "        except json.JSONDecodeError:\n",
    "            print(f\"Row {idx}: invalid JSON in suggestions\")\n",
    "            return False\n",
    "    print(\"All suggestions contain exactly 5 strings or are empty.\")\n",
    "    return True\n",
    "\n",
    "check_suggestions_have_5_strings_or_empty(dataset_v1)\n",
    "print(\"Dataset V1 shape:\", dataset_v1.shape)\n"
   ],
   "id": "87561e65bd40441d",
   "outputs": [
    {
     "name": "stdout",
     "output_type": "stream",
     "text": [
      "All suggestions contain exactly 5 strings or are empty.\n",
      "Dataset V1 shape: (200, 2)\n"
     ]
    }
   ],
   "execution_count": 18
  },
  {
   "metadata": {
    "ExecuteTime": {
     "end_time": "2025-09-20T23:41:49.189777Z",
     "start_time": "2025-09-20T23:41:45.778914Z"
    }
   },
   "cell_type": "code",
   "source": [
    "model_name = \"mistralai/Mistral-7B-Instruct-v0.3\"\n",
    "print(f\"Loading model: {model_name}\")\n",
    "\n",
    "model = AutoModelForCausalLM.from_pretrained(\n",
    "    model_name,\n",
    "    torch_dtype=torch.float16,\n",
    "    device_map=\"auto\",\n",
    "    trust_remote_code=True\n",
    ")\n",
    "\n",
    "tokenizer = AutoTokenizer.from_pretrained(model_name)\n",
    "tokenizer.pad_token = tokenizer.eos_token  # Set padding token\n",
    "\n",
    "print(\"Model and tokenizer loaded successfully!\")\n"
   ],
   "id": "4d2a045c240b0cb4",
   "outputs": [
    {
     "name": "stdout",
     "output_type": "stream",
     "text": [
      "Loading model: mistralai/Mistral-7B-Instruct-v0.3\n"
     ]
    },
    {
     "name": "stderr",
     "output_type": "stream",
     "text": [
      "Loading checkpoint shards: 100%|██████████| 3/3 [00:02<00:00,  1.25it/s]\n"
     ]
    },
    {
     "name": "stdout",
     "output_type": "stream",
     "text": [
      "Model and tokenizer loaded successfully!\n"
     ]
    }
   ],
   "execution_count": 19
  },
  {
   "metadata": {
    "ExecuteTime": {
     "end_time": "2025-09-20T23:41:49.235379Z",
     "start_time": "2025-09-20T23:41:49.223969Z"
    }
   },
   "cell_type": "code",
   "source": [
    "def format_dataset(examples):\n",
    "    texts = []\n",
    "    for description, suggestions_json_str in zip(examples['description'], examples['suggestions']):\n",
    "\n",
    "        try:\n",
    "            suggestions_list = json.loads(suggestions_json_str)\n",
    "        except json.JSONDecodeError:\n",
    "            # In case of any errors, just use an empty list\n",
    "            suggestions_list = []\n",
    "\n",
    "        # Join the list of domains with a newline character - JSON array pattern is too hard to learn\n",
    "        # For empty lists, this will correctly result in an empty string\n",
    "        suggestions_formatted = \"\\n\".join(suggestions_list[:DOMAIN_COUNT])\n",
    "\n",
    "        text = f\"\"\"<s>[INST] Generate {DOMAIN_COUNT} creative domain name(s) (without TLD extensions like .com) for the following business description:\n",
    "\n",
    "{description} [/INST] {suggestions_formatted}</s>\"\"\"\n",
    "\n",
    "        texts.append(text)\n",
    "    return {\"text\": texts}\n",
    "\n",
    "\n",
    "\n",
    "full_train_dataset = Dataset.from_pandas(dataset_v1)\n",
    "\n",
    "split = full_train_dataset.train_test_split(test_size=0.1, seed=42)\n",
    "train_dataset = split['train']\n",
    "validation_dataset = split['test']\n",
    "\n",
    "\n",
    "train_dataset = train_dataset.map(\n",
    "    format_dataset,\n",
    "    batched=True,\n",
    "    remove_columns=train_dataset.column_names\n",
    ")\n",
    "\n",
    "validation_dataset = validation_dataset.map(\n",
    "    format_dataset,\n",
    "    batched=True,\n",
    "    remove_columns=validation_dataset.column_names\n",
    ")\n",
    "\n",
    "print(\"Dataset formatted successfully!\")\n",
    "print(\"Example 1:\")\n",
    "print(train_dataset[0]['text'])\n",
    "print(\"\\n\" + \"=\"*50 + \"\\n\")\n",
    "print(\"Example 2:\")\n",
    "print(train_dataset[1]['text'])\n"
   ],
   "id": "4a3cf2493867b5b3",
   "outputs": [
    {
     "name": "stderr",
     "output_type": "stream",
     "text": [
      "Map: 100%|██████████| 180/180 [00:00<00:00, 116203.59 examples/s]\n",
      "Map: 100%|██████████| 20/20 [00:00<00:00, 17623.13 examples/s]"
     ]
    },
    {
     "name": "stdout",
     "output_type": "stream",
     "text": [
      "Dataset formatted successfully!\n",
      "Sample formatted example:\n",
      "<s>[INST] Generate 5 creative domain name(s) (without TLD extensions like .com) for the following business description:\n",
      "\n",
      "Bicycle-powered smoothie cart for events. [/INST] pedalpour\n",
      "crankcup\n",
      "blendbike\n",
      "wheelwhisk\n",
      "spinSip</s>\n",
      "\n",
      "==================================================\n",
      "\n",
      "Another example:\n",
      "<s>[INST] Generate 5 creative domain name(s) (without TLD extensions like .com) for the following business description:\n",
      "\n",
      "Neighborhood bread share and bake sale. [/INST] loaflist\n",
      "crumbcart\n",
      "bakebarter\n",
      "ovenout\n",
      "sliceSwap</s>\n"
     ]
    },
    {
     "name": "stderr",
     "output_type": "stream",
     "text": [
      "\n"
     ]
    }
   ],
   "execution_count": 20
  },
  {
   "metadata": {
    "ExecuteTime": {
     "end_time": "2025-09-20T23:41:49.245677Z",
     "start_time": "2025-09-20T23:41:49.243977Z"
    }
   },
   "cell_type": "code",
   "source": [
    "# Define LoRA configuration\n",
    "lora_config = LoraConfig(\n",
    "    r=128,  # Rank of the update matrices - those would need doubel check and/or hyperparams optim\n",
    "    lora_alpha=256,  # Scaling factor\n",
    "    target_modules=[\n",
    "        \"q_proj\",\n",
    "        \"k_proj\",\n",
    "        \"v_proj\",\n",
    "        \"o_proj\",\n",
    "        \"gate_proj\",\n",
    "        \"up_proj\",\n",
    "        \"down_proj\",\n",
    "    ],\n",
    "\n",
    "    lora_dropout=0.05,\n",
    "    bias=\"none\",\n",
    "    task_type=\"CAUSAL_LM\",\n",
    ")\n",
    "\n",
    "print(\"LoRA configuration created\")\n"
   ],
   "id": "bda7b1d972cda43f",
   "outputs": [
    {
     "name": "stdout",
     "output_type": "stream",
     "text": [
      "LoRA configuration created\n"
     ]
    }
   ],
   "execution_count": 21
  },
  {
   "metadata": {
    "ExecuteTime": {
     "end_time": "2025-09-20T23:41:49.254262Z",
     "start_time": "2025-09-20T23:41:49.252857Z"
    }
   },
   "cell_type": "code",
   "source": [
    "early_stopping_callback = EarlyStoppingCallback(\n",
    "    early_stopping_patience=2\n",
    ")"
   ],
   "id": "540f5713db183134",
   "outputs": [],
   "execution_count": 22
  },
  {
   "metadata": {
    "ExecuteTime": {
     "end_time": "2025-09-20T23:41:49.266654Z",
     "start_time": "2025-09-20T23:41:49.263766Z"
    }
   },
   "cell_type": "code",
   "source": [
    "sft_config = SFTConfig(\n",
    "    output_dir=\"../models/model_v1\",\n",
    "    per_device_train_batch_size=1,\n",
    "    gradient_accumulation_steps=4,\n",
    "    learning_rate=5e-6,\n",
    "    num_train_epochs=10,\n",
    "    max_steps=-1,\n",
    "    logging_steps=10,\n",
    "    save_steps=100,\n",
    "    save_total_limit=3,\n",
    "    warmup_steps=50,\n",
    "    lr_scheduler_type=\"cosine\",\n",
    "    report_to=None,\n",
    "    remove_unused_columns=False,\n",
    "    max_length=1024,\n",
    "\n",
    "    # Fix for MPS device - disable fp16, optionally enable bf16\n",
    "    fp16=False if torch.backends.mps.is_available() else True,\n",
    "    bf16=True if torch.backends.mps.is_available() else False,\n",
    "\n",
    "    eval_strategy=\"epoch\",\n",
    "    save_strategy=\"epoch\",\n",
    "    load_best_model_at_end=True,\n",
    ")"
   ],
   "id": "bd9fa8e81e7a9f2d",
   "outputs": [],
   "execution_count": 23
  },
  {
   "metadata": {
    "ExecuteTime": {
     "end_time": "2025-09-20T23:41:51.614697Z",
     "start_time": "2025-09-20T23:41:49.269589Z"
    }
   },
   "cell_type": "code",
   "source": [
    "# Create the SFTTrainer\n",
    "trainer = SFTTrainer(\n",
    "    model=model,\n",
    "    train_dataset=train_dataset,\n",
    "    eval_dataset=validation_dataset,\n",
    "    peft_config=lora_config,\n",
    "    args=sft_config,\n",
    "    callbacks=[early_stopping_callback],\n",
    ")\n",
    "\n",
    "print(\"SFTTrainer initialized successfully!\")\n"
   ],
   "id": "8ffab9000e57795b",
   "outputs": [
    {
     "name": "stderr",
     "output_type": "stream",
     "text": [
      "Adding EOS to train dataset: 100%|██████████| 180/180 [00:00<00:00, 70789.94 examples/s]\n",
      "Tokenizing train dataset: 100%|██████████| 180/180 [00:00<00:00, 15094.36 examples/s]\n",
      "Truncating train dataset: 100%|██████████| 180/180 [00:00<00:00, 161561.04 examples/s]\n",
      "Adding EOS to eval dataset: 100%|██████████| 20/20 [00:00<00:00, 21856.72 examples/s]\n",
      "Tokenizing eval dataset: 100%|██████████| 20/20 [00:00<00:00, 7590.13 examples/s]\n",
      "Truncating eval dataset: 100%|██████████| 20/20 [00:00<00:00, 26596.73 examples/s]"
     ]
    },
    {
     "name": "stdout",
     "output_type": "stream",
     "text": [
      "SFTTrainer initialized successfully!\n"
     ]
    },
    {
     "name": "stderr",
     "output_type": "stream",
     "text": [
      "\n"
     ]
    }
   ],
   "execution_count": 24
  },
  {
   "metadata": {
    "ExecuteTime": {
     "end_time": "2025-09-20T23:51:00.264356Z",
     "start_time": "2025-09-20T23:41:51.657472Z"
    }
   },
   "cell_type": "code",
   "source": "trainer.train()",
   "id": "ce5342652bf16e19",
   "outputs": [
    {
     "name": "stdout",
     "output_type": "stream",
     "text": [
      "Starting training...\n"
     ]
    },
    {
     "name": "stderr",
     "output_type": "stream",
     "text": [
      "/Users/ohm/Projects/sonia/domain.yours/.venv/lib/python3.13/site-packages/torch/utils/data/dataloader.py:684: UserWarning: 'pin_memory' argument is set as true but not supported on MPS now, then device pinned memory won't be used.\n",
      "  warnings.warn(warn_msg)\n"
     ]
    },
    {
     "data": {
      "text/plain": [
       "<IPython.core.display.HTML object>"
      ],
      "text/html": [
       "\n",
       "    <div>\n",
       "      \n",
       "      <progress value='270' max='450' style='width:300px; height:20px; vertical-align: middle;'></progress>\n",
       "      [270/450 09:06 < 06:06, 0.49 it/s, Epoch 6/10]\n",
       "    </div>\n",
       "    <table border=\"1\" class=\"dataframe\">\n",
       "  <thead>\n",
       " <tr style=\"text-align: left;\">\n",
       "      <th>Epoch</th>\n",
       "      <th>Training Loss</th>\n",
       "      <th>Validation Loss</th>\n",
       "      <th>Entropy</th>\n",
       "      <th>Num Tokens</th>\n",
       "      <th>Mean Token Accuracy</th>\n",
       "    </tr>\n",
       "  </thead>\n",
       "  <tbody>\n",
       "    <tr>\n",
       "      <td>1</td>\n",
       "      <td>2.164200</td>\n",
       "      <td>1.980727</td>\n",
       "      <td>1.418927</td>\n",
       "      <td>10848.000000</td>\n",
       "      <td>0.698598</td>\n",
       "    </tr>\n",
       "    <tr>\n",
       "      <td>2</td>\n",
       "      <td>1.313600</td>\n",
       "      <td>1.449548</td>\n",
       "      <td>1.447890</td>\n",
       "      <td>21696.000000</td>\n",
       "      <td>0.702705</td>\n",
       "    </tr>\n",
       "    <tr>\n",
       "      <td>3</td>\n",
       "      <td>0.811500</td>\n",
       "      <td>1.423090</td>\n",
       "      <td>1.071236</td>\n",
       "      <td>32544.000000</td>\n",
       "      <td>0.719623</td>\n",
       "    </tr>\n",
       "    <tr>\n",
       "      <td>4</td>\n",
       "      <td>0.618400</td>\n",
       "      <td>1.611110</td>\n",
       "      <td>0.968871</td>\n",
       "      <td>43392.000000</td>\n",
       "      <td>0.706959</td>\n",
       "    </tr>\n",
       "    <tr>\n",
       "      <td>5</td>\n",
       "      <td>0.530300</td>\n",
       "      <td>1.762759</td>\n",
       "      <td>0.853456</td>\n",
       "      <td>54240.000000</td>\n",
       "      <td>0.718829</td>\n",
       "    </tr>\n",
       "    <tr>\n",
       "      <td>6</td>\n",
       "      <td>0.426300</td>\n",
       "      <td>1.906570</td>\n",
       "      <td>0.785758</td>\n",
       "      <td>65088.000000</td>\n",
       "      <td>0.717357</td>\n",
       "    </tr>\n",
       "  </tbody>\n",
       "</table><p>"
      ]
     },
     "metadata": {},
     "output_type": "display_data",
     "jetTransient": {
      "display_id": "b84ebf782d96349461ab3c9de496d3a9"
     }
    },
    {
     "name": "stderr",
     "output_type": "stream",
     "text": [
      "/Users/ohm/Projects/sonia/domain.yours/.venv/lib/python3.13/site-packages/torch/utils/data/dataloader.py:684: UserWarning: 'pin_memory' argument is set as true but not supported on MPS now, then device pinned memory won't be used.\n",
      "  warnings.warn(warn_msg)\n",
      "/Users/ohm/Projects/sonia/domain.yours/.venv/lib/python3.13/site-packages/torch/utils/data/dataloader.py:684: UserWarning: 'pin_memory' argument is set as true but not supported on MPS now, then device pinned memory won't be used.\n",
      "  warnings.warn(warn_msg)\n",
      "/Users/ohm/Projects/sonia/domain.yours/.venv/lib/python3.13/site-packages/torch/utils/data/dataloader.py:684: UserWarning: 'pin_memory' argument is set as true but not supported on MPS now, then device pinned memory won't be used.\n",
      "  warnings.warn(warn_msg)\n",
      "/Users/ohm/Projects/sonia/domain.yours/.venv/lib/python3.13/site-packages/torch/utils/data/dataloader.py:684: UserWarning: 'pin_memory' argument is set as true but not supported on MPS now, then device pinned memory won't be used.\n",
      "  warnings.warn(warn_msg)\n",
      "/Users/ohm/Projects/sonia/domain.yours/.venv/lib/python3.13/site-packages/torch/utils/data/dataloader.py:684: UserWarning: 'pin_memory' argument is set as true but not supported on MPS now, then device pinned memory won't be used.\n",
      "  warnings.warn(warn_msg)\n"
     ]
    },
    {
     "name": "stdout",
     "output_type": "stream",
     "text": [
      "Training completed!\n"
     ]
    }
   ],
   "execution_count": 25
  },
  {
   "metadata": {
    "ExecuteTime": {
     "end_time": "2025-09-20T23:51:16.378515Z",
     "start_time": "2025-09-20T23:51:15.650388Z"
    }
   },
   "cell_type": "code",
   "source": [
    "save_path = \"../models/model_v1\"\n",
    "trainer.save_model(save_path)\n",
    "print(f\"Model saved to: {save_path}\")\n",
    "\n",
    "tokenizer.save_pretrained(save_path)\n",
    "print(\"Tokenizer saved as well\")\n"
   ],
   "id": "c33d14b4a91a21d1",
   "outputs": [
    {
     "name": "stdout",
     "output_type": "stream",
     "text": [
      "Model saved to: ../models/model_v1\n",
      "Tokenizer saved as well\n"
     ]
    }
   ],
   "execution_count": 28
  },
  {
   "metadata": {
    "ExecuteTime": {
     "end_time": "2025-09-20T23:54:52.174712Z",
     "start_time": "2025-09-20T23:54:51.007678Z"
    }
   },
   "cell_type": "code",
   "source": [
    "description = \"Artisanal coffee roastery with single-origin beans\"\n",
    "#description = \"Gluten free bakery online delivery\"\n",
    "#description = \"Hit man for hire\"\n",
    "prompt = f\"\"\"Generate {DOMAIN_COUNT} creative domain name(s) (without TLD extensions like .com) for the following business description:\n",
    "\n",
    "{description}\"\"\"\n",
    "\n",
    "test_input = f\"<s>[INST] {prompt} [/INST]\"\n",
    "\n",
    "inputs = tokenizer(test_input, return_tensors=\"pt\").to(model.device)\n",
    "input_token_length = inputs.input_ids.shape[1]\n",
    "\n",
    "with torch.no_grad():\n",
    "    outputs = model.generate(\n",
    "        **inputs,\n",
    "        max_new_tokens=100,\n",
    "        temperature=0.7,\n",
    "        do_sample=True,\n",
    "        pad_token_id=tokenizer.eos_token_id\n",
    "    )\n",
    "\n",
    "\n",
    "# slicing the output tensor\n",
    "generated_token_ids = outputs[0, input_token_length:]\n",
    "\n",
    "# Decode only the new tokens to get the clean response\n",
    "response = tokenizer.decode(generated_token_ids, skip_special_tokens=True)\n",
    "\n",
    "print(f\"Generated response:\\n{response}\")"
   ],
   "id": "883bba915efa8274",
   "outputs": [
    {
     "name": "stdout",
     "output_type": "stream",
     "text": [
      "Generated response:\n",
      "roastriver\n",
      "beanbloom\n",
      "groundgrove\n",
      "cupcraft\n",
      "brewbatch\n"
     ]
    }
   ],
   "execution_count": 39
  }
 ],
 "metadata": {
  "kernelspec": {
   "name": "python3",
   "language": "python",
   "display_name": "Python 3 (ipykernel)"
  }
 },
 "nbformat": 4,
 "nbformat_minor": 5
}
